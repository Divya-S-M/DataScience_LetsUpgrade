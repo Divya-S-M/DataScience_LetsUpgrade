{
 "cells": [
  {
   "cell_type": "markdown",
   "metadata": {},
   "source": [
    "# Assignment 2"
   ]
  },
  {
   "cell_type": "markdown",
   "metadata": {},
   "source": [
    "## Question 1:\n",
    "Create an empty list. Accept 10 numbers from the user and append to it the list if it is an even number.\n",
    "\n",
    "## Answer:"
   ]
  },
  {
   "cell_type": "code",
   "execution_count": 11,
   "metadata": {},
   "outputs": [
    {
     "name": "stdout",
     "output_type": "stream",
     "text": [
      "22\n",
      "12\n",
      "43\n",
      "6\n",
      "43\n",
      "98\n",
      "77\n",
      "11\n",
      "46\n",
      "3\n",
      "[22, 12, 6, 98, 46]\n"
     ]
    }
   ],
   "source": [
    "list1=[]\n",
    "for i in range(1,11):\n",
    "    num=int(input())\n",
    "    if(num % 2 == 0):\n",
    "        list1.append(num)\n",
    "        \n",
    "print(list1)"
   ]
  },
  {
   "cell_type": "markdown",
   "metadata": {},
   "source": [
    "## Question 2:\n",
    "Create a notebook on LIST COMPREHENSION. This exercise is to put you in a Self learning mode\n",
    "\n",
    "## Answer:"
   ]
  },
  {
   "cell_type": "markdown",
   "metadata": {},
   "source": [
    "* *Attached in Notebook 'List Comprehension'* "
   ]
  },
  {
   "cell_type": "markdown",
   "metadata": {},
   "source": [
    "## Question 3:\n",
    "Given a number n, write a program that generates a dictionary d which contains (i, i*i), where i is from 1 to n (both included) and print this dictionary d.\n",
    "\n",
    "## Answer:"
   ]
  },
  {
   "cell_type": "code",
   "execution_count": 46,
   "metadata": {},
   "outputs": [
    {
     "name": "stdout",
     "output_type": "stream",
     "text": [
      "5\n",
      "{1: 1, 2: 4, 3: 9, 4: 16, 5: 25}\n"
     ]
    }
   ],
   "source": [
    "#creating a list\n",
    "list1=[]\n",
    "\n",
    "#taking the vaue of number n\n",
    "n=int(input())\n",
    "\n",
    "#creating dictionary values in list\n",
    "for i in range(1,n+1):\n",
    "    val={i:i*i}\n",
    "    list1.append(val)\n",
    "\n",
    "#creating an empty dictionary\n",
    "d={}\n",
    "\n",
    "#converting list to dictionary\n",
    "for j in list1:\n",
    "    d.update(j)\n",
    "print(d)\n"
   ]
  },
  {
   "cell_type": "markdown",
   "metadata": {},
   "source": [
    "## Question 4:\n",
    "* There is a robot which wants to go the charging point to charge itself.\n",
    "* The robot moves in a 2-D plane from the original point (0,0). \n",
    "* The robot can move toward UP, DOWN, LEFT and RIGHT with given steps.\n",
    "Write a program to compute the distance between the current position after a sequence of movement and original point. If the distance is a float, then just print the nearest integer\n",
    "\n",
    "## Answer:"
   ]
  },
  {
   "cell_type": "code",
   "execution_count": 48,
   "metadata": {},
   "outputs": [
    {
     "name": "stdout",
     "output_type": "stream",
     "text": [
      "5\n",
      "UP 4\n",
      "DOWN 3\n",
      "LEFT 4\n",
      "DOWN 2\n",
      "RIGHT 5\n",
      "1\n"
     ]
    }
   ],
   "source": [
    "pos = {\n",
    "    \"x\": 0, \n",
    "    \"y\": 0\n",
    "}\n",
    "\n",
    "#z is number of directions to be given\n",
    "z=int(input())\n",
    "c=0\n",
    "while (c!=z):\n",
    "    n = input()   #number of steps for each direction\n",
    "    c=c+1\n",
    "    \n",
    "    if not n:\n",
    "        break\n",
    "\n",
    "    #analyzing the directions and calculating steps\n",
    "    direction,steps=n.split()\n",
    "    if direction == \"UP\":\n",
    "        pos[\"y\"] += int(steps)\n",
    "    elif direction == \"DOWN\":\n",
    "        pos[\"y\"] -= int(steps)\n",
    "    elif direction == \"LEFT\":\n",
    "        pos[\"x\"] -= int(steps)\n",
    "    elif direction == \"RIGHT\":\n",
    "        pos[\"x\"] += int(steps)\n",
    "        \n",
    "print (int(round((pos[\"x\"]**2 + pos[\"y\"]**2)**0.5)))"
   ]
  }
 ],
 "metadata": {
  "kernelspec": {
   "display_name": "Python 3",
   "language": "python",
   "name": "python3"
  },
  "language_info": {
   "codemirror_mode": {
    "name": "ipython",
    "version": 3
   },
   "file_extension": ".py",
   "mimetype": "text/x-python",
   "name": "python",
   "nbconvert_exporter": "python",
   "pygments_lexer": "ipython3",
   "version": "3.7.6"
  }
 },
 "nbformat": 4,
 "nbformat_minor": 4
}
